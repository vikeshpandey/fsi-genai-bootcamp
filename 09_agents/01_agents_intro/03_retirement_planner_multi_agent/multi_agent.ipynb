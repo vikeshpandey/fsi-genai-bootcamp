{
 "cells": [
  {
   "cell_type": "markdown",
   "metadata": {},
   "source": [
    "# Intro to Multi-Agent Systems\n",
    "\n",
    "> *This notebook should work well with the **`conda_python3`** kernel in SageMaker Studio on ml.t3.medium instance*\n",
    "\n",
    "---\n",
    "\n",
    "In this notebook, we will extend the concepts of agents to multi-agent systems. Using multiple agents allows us to create more specialized agents that can work together to solve complex problems. Unlike a single, jack-of-all-trades agent, multi-agent systems can be more efficient and effective at solving problems that require a variety of skills.\n",
    "In the example below, we'll build a investment and retirement planning system that uses multiple agents to help a user plan for their future. The system will be comprised of three agents:\n",
    "- Manager Agent: This agent will be responsible for creating the overall plan and delegating tasks to the other agents.\n",
    "- Investment Analysis Agent: This agent will be responsible for analyzing potential investments\n",
    "- Retirement Planning Agent: This agent will be responsible for analyzing whether retirement goals can be met given a investment and savings strategy.\n",
    "\n",
    "\n",
    "---"
   ]
  },
  {
   "cell_type": "code",
   "execution_count": null,
   "metadata": {},
   "outputs": [],
   "source": [
    "import sys\n",
    "import os\n",
    "module_path = \"../..\"\n",
    "sys.path.append(os.path.abspath(module_path))\n",
    "from utils.environment_validation import validate_environment, validate_model_access\n",
    "validate_environment()"
   ]
  },
  {
   "cell_type": "markdown",
   "metadata": {},
   "source": [
    "> 🚨 **Caution** You may get an exception running the cell bellow. If that's the case, please restart the kernel by clicking **Kernell** -> **Restart Kernel**. Alternatively click the refresh icon on the notebook toolbar above"
   ]
  },
  {
   "cell_type": "code",
   "execution_count": null,
   "metadata": {},
   "outputs": [],
   "source": [
    "required_models = [\n",
    "    \"amazon.titan-embed-text-v1\",\n",
    "    \"us.anthropic.claude-3-5-haiku-20241022-v1:0\",\n",
    "    \"us.anthropic.claude-3-5-sonnet-20241022-v2:0\",\n",
    "    \"us.amazon.nova-pro-v1:0\",\n",
    "]\n",
    "validate_model_access(required_models)"
   ]
  },
  {
   "cell_type": "code",
   "execution_count": null,
   "metadata": {},
   "outputs": [],
   "source": [
    "from smolagents import CodeAgent, DuckDuckGoSearchTool, LiteLLMModel\n",
    "from agent_tools import get_ticker_data, get_fred_data, run_ols_regression, forecast_volatility, simulate_investment_roi, simulate_retirement, get_today"
   ]
  },
  {
   "cell_type": "code",
   "execution_count": null,
   "metadata": {},
   "outputs": [],
   "source": [
    "# MODEL_ID = \"bedrock/us.amazon.nova-pro-v1:0\"\n",
    "MODEL_ID = \"bedrock/us.anthropic.claude-3-5-haiku-20241022-v1:0\"\n",
    "model = LiteLLMModel(model_id=MODEL_ID, temperature=0)\n",
    "\n",
    "investment_tools = [\n",
    "    get_ticker_data,         # get stock data for a given ticker and date range\n",
    "    get_fred_data,           # get FRED data for a given series and date range\n",
    "    get_today,               # get the current date\n",
    "    run_ols_regression,      # run an OLS regression on dependent and independent variables\n",
    "    simulate_investment_roi, # simulate the ROI of an investment by running a Monte Carlo simulation on historic returns\n",
    "    forecast_volatility,     # forecast the volatility of a stock using GARCH\n",
    "    DuckDuckGoSearchTool(),  # search the web using DuckDuckGo\n",
    "]\n",
    "retirement_tools = [\n",
    "    get_today,               # get the current date\n",
    "    simulate_investment_roi, # simulate the ROI of an investment by running a Monte Carlo simulation on historic returns\n",
    "    simulate_retirement,     # simulate the likelihood of running out of money in retirement\n",
    "]\n",
    "\n",
    "\n",
    "investment_analyst_agent = CodeAgent(\n",
    "    tools=investment_tools,\n",
    "    model=model,\n",
    "    additional_authorized_imports=[\"pandas\", \"json\", \"numpy\"],\n",
    "    name=\"investment_analyst_agent\",\n",
    "    description=\"A research agent that specializes in analyzing stock performance, computing technical indicators, and forecasting volatility.\",\n",
    ")\n",
    "\n",
    "retirement_planner_agent = CodeAgent(\n",
    "    tools=retirement_tools,\n",
    "    model=model,\n",
    "    additional_authorized_imports=[\"pandas\", \"json\", \"numpy\"],\n",
    "    name=\"retirement_planner_agent\",\n",
    "    description=\"An investment analyst agent that can analyze investment plans and help with retirement planning.\",\n",
    ")\n",
    "\n",
    "manager_agent = CodeAgent(\n",
    "    tools=[],\n",
    "    model=model,\n",
    "    managed_agents=[investment_analyst_agent, retirement_planner_agent],\n",
    ")"
   ]
  },
  {
   "cell_type": "code",
   "execution_count": null,
   "metadata": {},
   "outputs": [],
   "source": [
    "manager_agent.run(\"Should I invest in bitcoin or a portfolio of FAANG stocks?\")"
   ]
  },
  {
   "cell_type": "code",
   "execution_count": null,
   "metadata": {},
   "outputs": [],
   "source": [
    "manager_agent.run(\"I have $1000000 in savings, and plan to spend roughly $60k per year in retirement. Will this money last me for 30 years?\")"
   ]
  },
  {
   "cell_type": "code",
   "execution_count": null,
   "metadata": {},
   "outputs": [],
   "source": [
    "manager_agent.run(\"I'm 30 years old and have $5K that I'd like to invest into an S&P 500 index fund. How much should I contribute each month so that I can retire at 60 and live comfortably for at least 30 years?\")"
   ]
  },
  {
   "cell_type": "code",
   "execution_count": null,
   "metadata": {},
   "outputs": [],
   "source": []
  }
 ],
 "metadata": {
  "kernelspec": {
   "display_name": "base",
   "language": "python",
   "name": "python3"
  },
  "language_info": {
   "codemirror_mode": {
    "name": "ipython",
    "version": 3
   },
   "file_extension": ".py",
   "mimetype": "text/x-python",
   "name": "python",
   "nbconvert_exporter": "python",
   "pygments_lexer": "ipython3",
   "version": "3.11.9"
  }
 },
 "nbformat": 4,
 "nbformat_minor": 2
}
