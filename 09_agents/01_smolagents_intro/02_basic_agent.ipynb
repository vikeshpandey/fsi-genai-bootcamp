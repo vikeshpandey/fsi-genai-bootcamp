{
 "cells": [
  {
   "cell_type": "markdown",
   "metadata": {},
   "source": [
    "# Intro to AI Agents\n",
    "\n",
    "> *This notebook should work well with the **`conda_python3`** kernel in SageMaker Studio on ml.t3.medium instance*\n",
    "\n",
    "---\n",
    "\n",
    "In this notebook, we will introduce the concept of AI agents and how they can be used to solve problems. Unlike static LLM workflows, AI agents are dynamic and can adapt to a much wider range of problems. They are particularly well suited when we don't know the exact parameters of each user interaction. Some cases which may call for AI agents include:\n",
    "- Goal oriented tasks such as researching a topic, analyzing data across many sources, or helping find the best product for a user.\n",
    "- Tasks that may involve a wide variety of user inputs, such as document processing where there may be a wide variety of document formats and data that needs to be extracted.\n",
    "- Tasks that may involve usage of various external tools or APIs, without a fixed sequential order of operations.\n",
    "\n",
    "There are numerous frameworks available for implementing agents including [Amazon Bedrock](https://aws.amazon.com/bedrock/agents/), [CrewAI](https://www.crewai.com/), and [LangGraph](https://www.langchain.com/langgraph). The frameworks vary in their capabilities and complexity, but all provide a way to define and deploy agents that can interact with users and other systems.For this notebook, we will use a lightweight framework from Hugging Face called [smolagents](https://github.com/huggingface/smolagents). This framework provides a very simple and lightweight way to define agents that can interact with users and other systems, and is thus well suitable for quick prototyping and experimentation.\n",
    "\n",
    "\n",
    "---"
   ]
  },
  {
   "cell_type": "code",
   "execution_count": null,
   "metadata": {},
   "outputs": [],
   "source": [
    "import sys\n",
    "import os\n",
    "module_path = \"../..\"\n",
    "sys.path.append(os.path.abspath(module_path))\n",
    "from utils.environment_validation import validate_environment, validate_model_access\n",
    "validate_environment()"
   ]
  },
  {
   "cell_type": "markdown",
   "metadata": {},
   "source": [
    "> 🚨 **Caution** You may get an exception running the cell bellow. If that's the case, please restart the kernel by clicking **Kernell** -> **Restart Kernel**. Alternatively click the refresh icon on the notebook toolbar above"
   ]
  },
  {
   "cell_type": "code",
   "execution_count": null,
   "metadata": {},
   "outputs": [],
   "source": [
    "required_models = [\n",
    "    \"amazon.titan-embed-text-v1\",\n",
    "    \"us.anthropic.claude-3-5-haiku-20241022-v1:0\",\n",
    "    \"us.anthropic.claude-3-5-sonnet-20241022-v2:0\",\n",
    "    \"us.amazon.nova-pro-v1:0\",\n",
    "]\n",
    "validate_model_access(required_models)"
   ]
  },
  {
   "cell_type": "markdown",
   "metadata": {},
   "source": [
    "## Simple Search Agent\n",
    "\n",
    "Let's build a simple search agent that can search for information on the web. The agent will take a query from the user and return the top search results. We will use DuckDuckGo as the search engine for this agent.\n",
    "smolagents offers two types of agents:\n",
    "- [CodeAgent](https://huggingface.co/papers/2402.01030): Invokes tools via generated python code snippets. This provides flexibility in terms of how the agent interacts with external tools as it's able to expand on the capabilities of the tools by incorporating custom code.\n",
    "- [ToolCallingAgent](https://huggingface.co/learn/agents-course/en/unit2/smolagents/tool_calling_agents): Invokes tools by generating a JSON output that contains the tool name and parameters and the invocation parameters. This approach is more rigid as the model is limited to the capabilities of the tools it calls however it may prove to be more efficient and secure in some cases as it does not involve running arbitrary code.\n",
    "\n",
    "As as an example if we have a tool that can reterieve stock data for a given stock symbol. If the agent receives a task that involves retrieving stock data for say \"AAPL\", \"MSFT\" and \"GOOGL\", the CodeAgent will write a code snippet with a simple for loop that will retrieve the stock data for each symbol. While the ToolCallingAgent will generate a JSON output that contains the tool name and parameters and the invocation parameters for each stock symbol. Additionally, if the tasks requires invoking additional tools to analyze the stock data, the CodeAgent can potentially tackle this in a single code snippet, while the ToolCallingAgent will need to make multiple calls to the tools which could be less efficient."
   ]
  },
  {
   "cell_type": "code",
   "execution_count": null,
   "metadata": {},
   "outputs": [],
   "source": [
    "from smolagents import CodeAgent, DuckDuckGoSearchTool, LiteLLMModel, tool\n",
    "from typing import List\n",
    "import pandas as pd\n",
    "import yfinance as yf\n",
    "import pandas_datareader as pdr\n",
    "import statsmodels.api as sm\n",
    "import numpy as np\n"
   ]
  },
  {
   "cell_type": "code",
   "execution_count": null,
   "metadata": {},
   "outputs": [],
   "source": [
    "MODEL_ID = \"bedrock/us.anthropic.claude-3-5-haiku-20241022-v1:0\"\n",
    "model = LiteLLMModel(model_id=MODEL_ID, temperature=0)"
   ]
  },
  {
   "cell_type": "code",
   "execution_count": null,
   "metadata": {},
   "outputs": [],
   "source": [
    "# define as simple agent that has access to online\n",
    "agent = CodeAgent(tools=[DuckDuckGoSearchTool()], model=model)\n",
    "agent.run(\"How many years would it take an average person to watch all of the content on Amazon prime video?\")"
   ]
  },
  {
   "cell_type": "markdown",
   "metadata": {},
   "source": [
    "## Stock Analysis Agent\n",
    "Let's look at a more complex example. We will build an agent that can analyze stock data. In addition to web search, this agent will have access to the following tools:\n",
    "- `get_ticker_data`: This tool will retrieve stock data for a given stock symbol.\n",
    "- `get_fred_data`: This tool will retrieve economic data from the Federal Reserve Economic Data (FRED) API.\n",
    "- `run_ols_regression`: This tool will run an ordinary least squares regression which can be used to analyze the relationship between two variables\n",
    "\n",
    "Defining tools is easy as we merely need to decorate a function with the `@tool` decorator. The function should contain a docstring in [Google-style](https://sphinxcontrib-napoleon.readthedocs.io/en/latest/example_google.html) format that describes the tool's inputs and outputs. Providing clear documentation is important as it informs the agent about the tool's capabilities and how to use it."
   ]
  },
  {
   "cell_type": "code",
   "execution_count": null,
   "metadata": {},
   "outputs": [],
   "source": [
    "@tool\n",
    "def get_ticker_data(\n",
    "    tickers: List[str],\n",
    "    start_date: str,\n",
    "    end_date: str,\n",
    "    metric: str = \"all\",\n",
    "    sampling: str = \"monthly\",\n",
    ") -> dict:\n",
    "    \"\"\"Downloads historical stock data from Yahoo Finance and returns it as a dictionary.\n",
    "\n",
    "    Examples:\n",
    "        >>> get_ticker_data([\"AAPL\"], \"2023-01-01\", \"2023-12-31\", \"Close\", \"weekly\")\n",
    "        {\"AAPL\": [{\"Date\": \"2023-01-06\", \"Close\": 129.619995}, {\"Date\": \"2023-01-13\", \"Close\": 134.759995}, ...]}\n",
    "\n",
    "        >>> get_ticker_data([\"AAPL\", \"MSFT\"], \"2023-01-01\", \"2023-12-31\", \"all\", \"monthly\")\n",
    "        {\"AAPL\": [{\"Date\": \"2023-01-31\", \"Open\": 144.479996, \"High\": 147.229996, \"Low\": 141.320007, \"Close\": 144.289993, \"Adj Close\": 143.839996, \"Volume\": 77663600}, ...],\n",
    "          \"MSFT\": [{\"Date\": \"2023-01-31\", \"Open\": 250.089996, \"High\": 256.25, \"Low\": 242.529999, \"Close\": 252.509995, \"Adj Close\": 251.873795, \"Volume\": 47146900}, ...]}\n",
    "\n",
    "    Args:\n",
    "        tickers: A list of stock ticker symbols (e.g., [\"AAPL\", \"MSFT\"]).\n",
    "        start_date: The start date for the data (e.g., \"2023-01-01\").\n",
    "        end_date: The end date for the data in YYYY-MM-DD format (e.g., \"2023-12-31\").\n",
    "        metric:  If \"all\", returns all available data columns (Open, High, Low, Close, Volume).\n",
    "            Otherwise, specifies a single metric to return (e.g., \"Close\"). Defaults to \"all\".\n",
    "        sampling: The frequency of the data. Can be \"daily\", \"weekly\", or \"monthly\". Defaults to \"monthly\".\n",
    "\n",
    "    Returns:\n",
    "        dict: A dictionary where keys are ticker symbols and values are lists of historical data records.\n",
    "             Each record is a dictionary containing 'Date' and the requested metrics.\n",
    "\n",
    "    Raises:\n",
    "        ValueError: If an invalid sampling frequency is provided.\n",
    "\n",
    "\n",
    "    \"\"\"\n",
    "\n",
    "    df = yf.download(tickers, start=start_date, end=end_date)\n",
    "\n",
    "    if metric != \"all\":\n",
    "        df = df[metric]\n",
    "\n",
    "    if sampling == \"weekly\":\n",
    "        df = df.resample(\"W-SAT\").last()\n",
    "    elif sampling == \"monthly\":\n",
    "        df = df.resample(\"ME\").last()\n",
    "    elif sampling == \"quarterly\":\n",
    "        df = df.resample(\"QE\").last()\n",
    "    elif sampling == \"daily\":\n",
    "        pass\n",
    "    else:\n",
    "        raise ValueError(\n",
    "            \"Invalid sampling frequency. Use 'daily', 'weekly', 'monthly', 'quarterly.\"\n",
    "        )\n",
    "\n",
    "    result = {}\n",
    "    for ticker in tickers:\n",
    "        if metric == \"all\":\n",
    "            df_tick = df.loc[:, (slice(None), ticker)]\n",
    "            df_tick.columns = df_tick.columns.droplevel(\"Ticker\")\n",
    "        else:\n",
    "            df_tick = df.loc[:, ticker]\n",
    "            df_tick = df_tick.to_frame(name=metric)\n",
    "        df_tick = df_tick.reset_index()\n",
    "        df_tick[\"Date\"] = df_tick[\"Date\"].dt.strftime(\"%Y-%m-%d\")\n",
    "        result[ticker] = df_tick.to_dict(orient=\"records\")\n",
    "\n",
    "    return result\n",
    "\n",
    "\n",
    "@tool\n",
    "def get_fred_data(\n",
    "    series: str, start_date: str, end_date: str, sampling: str = \"monthly\"\n",
    ") -> list[dict]:\n",
    "    \"\"\"Downloads data from the Federal Reserve Economic Data (FRED) database and returns it as dictionary.\n",
    "\n",
    "    Examples:\n",
    "        >>> get_fred_data(\"GDP\", \"2023-01-01\", \"2023-01-10\")\n",
    "        [{\"Date\": \"2023-01-01\", \"GDP\": 21.0}, {\"Date\": \"2023-01-02\", \"GDP\": 22.0}, ...]\n",
    "\n",
    "    Args:\n",
    "        series: The FRED series ID (e.g., \"GDP\").\n",
    "        start_date: The start date for the data (e.g., \"2023-01-01\").\n",
    "        end_date: The end date for the data in YYYY-MM-DD format (e.g., \"2023-12-31\").\n",
    "        sampling: The frequency of the data. Can be \"monthly\", \"quarterly\", or \"yearly\". Defaults to \"monthly\".\n",
    "\n",
    "    Returns:\n",
    "        list: A list representing a list of dictionaries, where each dictionary contains 'Date' and the value of the FRED series.\n",
    "\n",
    "    Raises:\n",
    "        ValueError: If an invalid sampling frequency is provided.\n",
    "\n",
    "\n",
    "    \"\"\"\n",
    "    df = pdr.data.DataReader(series, start=start_date, end=end_date, data_source=\"fred\")\n",
    "\n",
    "    if sampling == \"monthly\":\n",
    "        df = df.resample(\"ME\").last()\n",
    "    elif sampling == \"quarterly\":\n",
    "        df = df.resample(\"QE\").last()\n",
    "    elif sampling == \"yearly\":\n",
    "        df = df.resample(\"YE\").last()\n",
    "    else:\n",
    "        raise ValueError(\n",
    "            \"Invalid sampling frequency. Use 'monthly', 'quarterly', or 'yearly'.\"\n",
    "        )\n",
    "\n",
    "    df.reset_index(inplace=True)\n",
    "    df[\"DATE\"] = df[\"DATE\"].dt.strftime(\"%Y-%m-%d\")\n",
    "    df.rename(columns={\"DATE\": \"Date\"}, inplace=True)\n",
    "\n",
    "    result = df.to_dict(orient=\"records\")\n",
    "\n",
    "    return result\n",
    "\n",
    "\n",
    "@tool\n",
    "def run_ols_regression(y: List[float], X: List[float]) -> dict:\n",
    "    \"\"\"Runs a simple Ordinary Least Squares (OLS) regression.\n",
    "    If you are using to compute beta, make sure the dates are aligned.\n",
    "\n",
    "    Examples:\n",
    "        >>> y = [1, 2, 3, 4, 5]\n",
    "        >>> X = [2, 4, 5, 4, 5]\n",
    "        >>> run_ols_regression(y, X)\n",
    "        {\"const\": -0.4, \"coef\": 0.9}\n",
    "\n",
    "    Args:\n",
    "        y: The dependent variable.\n",
    "        X: The independent variable(s).\n",
    "\n",
    "    Returns:\n",
    "        dict: A dictionary containing the constant and coefficient of the OLS regression.\n",
    "\n",
    "\n",
    "    \"\"\"\n",
    "    X = np.array(X)\n",
    "    y = np.array(y)\n",
    "    X = sm.add_constant(X)\n",
    "    model = sm.OLS(y, X)\n",
    "    results = model.fit()\n",
    "    params = results.params\n",
    "    const, coef = params\n",
    "    return {\"const\": const, \"coef\": coef}"
   ]
  },
  {
   "cell_type": "code",
   "execution_count": null,
   "metadata": {},
   "outputs": [],
   "source": [
    "# define the stock analysis agent\n",
    "stock_analysis_agent = CodeAgent(\n",
    "    tools=[get_ticker_data, get_fred_data, run_ols_regression, DuckDuckGoSearchTool()],\n",
    "    model=model,\n",
    "    name=\"stock_analyst_agent\",\n",
    "    description=\"A research agent that specializes in analyzing stock performance, computing technical indicators, and forecasting volatility.\",\n",
    ")"
   ]
  },
  {
   "cell_type": "code",
   "execution_count": null,
   "metadata": {},
   "outputs": [],
   "source": [
    "stock_analysis_agent.run(\"What immediate impact did Amazon's announcement of Alexa+ have on its stock price?\")"
   ]
  },
  {
   "cell_type": "code",
   "execution_count": null,
   "metadata": {},
   "outputs": [],
   "source": [
    "stock_analysis_agent.run(\"How has Amazon's stock price changed since the Fed began lowering rates in 2024\")"
   ]
  },
  {
   "cell_type": "code",
   "execution_count": null,
   "metadata": {},
   "outputs": [],
   "source": [
    "stock_analysis_agent.run(\"What is the correlation between Amazon's stock price and the GDP of the United States?\")"
   ]
  },
  {
   "cell_type": "code",
   "execution_count": null,
   "metadata": {},
   "outputs": [],
   "source": [
    "stock_analysis_agent.run(\"Compare and analyze the market beta for FAANG stocks since 2019\")"
   ]
  },
  {
   "cell_type": "code",
   "execution_count": null,
   "metadata": {},
   "outputs": [],
   "source": []
  }
 ],
 "metadata": {
  "kernelspec": {
   "display_name": "Python 3 (ipykernel)",
   "language": "python",
   "name": "python3"
  },
  "language_info": {
   "codemirror_mode": {
    "name": "ipython",
    "version": 3
   },
   "file_extension": ".py",
   "mimetype": "text/x-python",
   "name": "python",
   "nbconvert_exporter": "python",
   "pygments_lexer": "ipython3",
   "version": "3.12.9"
  }
 },
 "nbformat": 4,
 "nbformat_minor": 4
}
